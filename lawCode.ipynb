{
 "cells": [
  {
   "attachments": {},
   "cell_type": "markdown",
   "id": "9db32553",
   "metadata": {},
   "source": [
    "## Law-GPT\n",
    "#### Custom GPT chat-bot on INDIAN LAWS"
   ]
  },
  {
   "cell_type": "code",
   "execution_count": null,
   "id": "cf20f9db",
   "metadata": {},
   "outputs": [],
   "source": [
    "##This was the initial code for lawGPT"
   ]
  },
  {
   "cell_type": "code",
   "execution_count": 9,
   "id": "b50c4044",
   "metadata": {},
   "outputs": [],
   "source": [
    "import os\n",
    "os.environ['OPENAI_API_KEY'] = \"“<yourkey>”\""
   ]
  },
  {
   "cell_type": "code",
   "execution_count": 1,
   "id": "6e689d01",
   "metadata": {},
   "outputs": [],
   "source": [
    "# Load you data into 'Documents' a custom type by LlamaIndex\n",
    "\n",
    "from llama_index import SimpleDirectoryReader\n",
    "documents = SimpleDirectoryReader('./data').load_data()\n",
    "\n",
    "# documents"
   ]
  },
  {
   "cell_type": "code",
   "execution_count": 29,
   "id": "72986400",
   "metadata": {},
   "outputs": [],
   "source": [
    "# parse the documents inserted into nodes\n",
    "\n",
    "# from llama_index.node_parser import SimpleNodeParser\n",
    "# parser = SimpleNodeParser()\n",
    "# nodes = parser.get_nodes_from_documents(documents)"
   ]
  },
  {
   "cell_type": "code",
   "execution_count": 11,
   "id": "115742d7",
   "metadata": {},
   "outputs": [],
   "source": [
    "# Create an index of your documents\n",
    "from llama_index import  GPTVectorStoreIndex\n",
    "index = GPTVectorStoreIndex.from_documents(documents)\n",
    "\n",
    "# from llama_index import GPTVectorStoreIndex\n",
    "# index = GPTVectorStoreIndex(nodes)"
   ]
  },
  {
   "cell_type": "code",
   "execution_count": 14,
   "id": "1ae54fc1",
   "metadata": {},
   "outputs": [
    {
     "name": "stdout",
     "output_type": "stream",
     "text": [
      "\n",
      "The laws in Kashmir are the provisions of the Constitution of India as amended from time to time, as applied in relation to the State of Jammu and Kashmir. This includes the provisions of article 370, which states that all provisions of the Constitution, as amended from time to time, without any modifications or exceptions, shall apply to the State of Jammu and Kashmir. Additionally, the Constitution (Application to Jammu and Kashmir) Order, 2019, which was issued by the President with the concurrence of the Government of State of Jammu and Kashmir, also applies in relation to the State of Jammu and Kashmir.\n"
     ]
    }
   ],
   "source": [
    "query_engine = index.as_query_engine()\n",
    "response = query_engine.query(\"What are the laws in Kashmir ?\")\n",
    "print(response)"
   ]
  },
  {
   "cell_type": "code",
   "execution_count": 15,
   "id": "9a7dd73a",
   "metadata": {},
   "outputs": [],
   "source": [
    "from llama_index import LLMPredictor, GPTVectorStoreIndex, PromptHelper, ServiceContext\n",
    "from langchain import OpenAI\n",
    "\n",
    "# define LLM\n",
    "llm_predictor = LLMPredictor(llm=OpenAI(temperature=0, model_name=\"text-davinci-003\"))\n",
    "\n",
    "# define prompt helper\n",
    "# set maximum input size\n",
    "max_input_size = 4096\n",
    "# set number of output tokens\n",
    "num_output = 256\n",
    "# set maximum chunk overlap\n",
    "max_chunk_overlap = 20\n",
    "prompt_helper = PromptHelper(max_input_size, num_output, max_chunk_overlap)\n",
    "\n",
    "service_context = ServiceContext.from_defaults(llm_predictor=llm_predictor, prompt_helper=prompt_helper)\n",
    "\n",
    "custom_llm_index = GPTVectorStoreIndex.from_documents(\n",
    "    documents, service_context=service_context\n",
    ")"
   ]
  },
  {
   "attachments": {},
   "cell_type": "markdown",
   "id": "8b7362d9",
   "metadata": {},
   "source": [
    "## Without custom Knowledge base"
   ]
  },
  {
   "cell_type": "code",
   "execution_count": 17,
   "id": "5c200646",
   "metadata": {},
   "outputs": [
    {
     "name": "stdout",
     "output_type": "stream",
     "text": [
      "\n",
      "It is not possible to answer this question without prior knowledge. The context information provided does not provide any information about the laws in Kashmir which come into effect during a crisis.\n"
     ]
    }
   ],
   "source": [
    "#Querying with custom Index\n",
    "#Before adding multiple data files\n",
    "\n",
    "query_engine = custom_llm_index.as_query_engine()\n",
    "response_new = query_engine.query(\"What are the laws in Kashmir which come into affect during a crisis ? ?\")\n",
    "print(response_new)"
   ]
  },
  {
   "attachments": {},
   "cell_type": "markdown",
   "id": "37047761",
   "metadata": {},
   "source": [
    "## With custom Knowledge base"
   ]
  },
  {
   "cell_type": "code",
   "execution_count": 20,
   "id": "c5a743ae",
   "metadata": {},
   "outputs": [],
   "source": [
    "#Knowledge base with bulk data\n",
    "bulk_documents = SimpleDirectoryReader('./multipleData').load_data()"
   ]
  },
  {
   "cell_type": "code",
   "execution_count": 21,
   "id": "1dd191bd",
   "metadata": {},
   "outputs": [],
   "source": [
    "bulk_index = GPTVectorStoreIndex.from_documents(bulk_documents)"
   ]
  },
  {
   "cell_type": "code",
   "execution_count": 22,
   "id": "e1ee7f3b",
   "metadata": {},
   "outputs": [
    {
     "name": "stdout",
     "output_type": "stream",
     "text": [
      "\n",
      "The laws in Kashmir are the provisions of the Constitution of India as amended from time to time, as applied in relation to the State of Jammu and Kashmir. This includes the Constitution (Application to Jammu and Kashmir) Order, 2019, which superseded the Constitution (Application to Jammu and Kashmir) Order, 1954. The exceptions and modifications subject to which the Constitution of India applies in relation to the State of Jammu and Kashmir are outlined in Article 370 of the Constitution.\n"
     ]
    }
   ],
   "source": [
    "#After adding updatng the knowledge base. \n",
    "\n",
    "query_engine = bulk_index.as_query_engine()\n",
    "response = query_engine.query(\"What are the laws in Kashmir ?\")\n",
    "print(response)"
   ]
  }
 ],
 "metadata": {
  "kernelspec": {
   "display_name": "Python 3 (ipykernel)",
   "language": "python",
   "name": "python3"
  },
  "language_info": {
   "codemirror_mode": {
    "name": "ipython",
    "version": 3
   },
   "file_extension": ".py",
   "mimetype": "text/x-python",
   "name": "python",
   "nbconvert_exporter": "python",
   "pygments_lexer": "ipython3",
   "version": "3.11.3"
  }
 },
 "nbformat": 4,
 "nbformat_minor": 5
}
